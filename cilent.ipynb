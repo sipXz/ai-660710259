{
  "nbformat": 4,
  "nbformat_minor": 0,
  "metadata": {
    "colab": {
      "provenance": []
    },
    "kernelspec": {
      "name": "python3",
      "display_name": "Python 3"
    },
    "language_info": {
      "name": "python"
    }
  },
  "cells": [
    {
      "cell_type": "code",
      "execution_count": null,
      "metadata": {
        "id": "qCaU99Qmca-E"
      },
      "outputs": [],
      "source": [
        "import requests\n",
        "\n",
        "# URL ที่ได้จาก ngrok\n",
        "url = 'https://9bf52066023f.ngrok-free.app/predict'  # แทนที่ด้วย URL ที่ได้จากขั้นตอนก่อนหน้า\n",
        "\n",
        "# ข้อมูลทดสอบ\n",
        "data = {\n",
        "    \"age\": 63,\n",
        "    \"sex\": 1,\n",
        "    \"cp\": 3,\n",
        "    \"trestbps\": 145,\n",
        "    \"chol\": 233,\n",
        "    \"fbs\": 1,\n",
        "    \"restecg\": 0,\n",
        "    \"thalach\": 150,\n",
        "    \"exang\": 0,\n",
        "    \"oldpeak\": 2.3,\n",
        "    \"slope\": 0,\n",
        "    \"ca\": 0,\n",
        "    \"thal\": 1\n",
        "}\n",
        "\n",
        "# ส่ง POST request\n",
        "response = requests.post(url, json=data)\n",
        "\n",
        "# แสดงผลลัพธ์\n",
        "print(response.json())\n"
      ]
    }
  ]
}